{
 "cells": [
  {
   "cell_type": "markdown",
   "metadata": {},
   "source": []
  },
  {
   "cell_type": "code",
   "execution_count": null,
   "metadata": {},
   "outputs": [],
   "source": [
    "import pandas as pd\n",
    "from sklearn.model_selection import train_test_split\n",
    "from sklearn.preprocessing import StandardScaler\n",
    "\n",
    "url = \"https://archive.ics.uci.edu/static/public/9/data.csv\"\n",
    "\n",
    "df = pd.read_csv(url)\n",
    "\n",
    "print(\"Initial DataFrame:\\n\", df.head())\n",
    "\n",
    "# Renaming the columns for easier access\n",
    "df.columns = ['mpg', 'cylinders', 'displacement', 'horsepower', 'weight', 'acceleration', 'model_year', 'origin', 'car_name']\n",
    "\n",
    "# Handle missing values (replace missing horsepower values with the mean)\n",
    "df['horsepower'] = pd.to_numeric(df['horsepower'], errors='coerce')\n",
    "df['horsepower'] = df['horsepower'].fillna(df['horsepower'].mean())\n",
    "\n",
    "# Drop 'car_name' as it's not useful in our analysis\n",
    "df.drop('car_name', axis=1, inplace=True)\n",
    "\n",
    "# One-hot encode 'origin' column\n",
    "df = pd.get_dummies(df, columns=['origin'], prefix='origin')\n",
    "\n",
    "# Separate features and target\n",
    "X = df.drop('mpg', axis=1)\n",
    "y = df['mpg']\n",
    "\n",
    "# Train-test split\n",
    "X_train, X_test, y_train, y_test = train_test_split(X, y, test_size=0.2, random_state=42)\n",
    "\n",
    "# Standardize the features\n",
    "scaler = StandardScaler()\n",
    "X_train_scaled = scaler.fit_transform(X_train)\n",
    "X_test_scaled = scaler.transform(X_test)\n",
    "\n",
    "# Print the preprocessed data\n",
    "print(\"\\nPreprocessed X_train sample:\\n\", X_train_scaled[:5])\n",
    "print(\"Preprocessed X_test sample:\\n\", X_test_scaled[:5])\n"
   ]
  }
 ],
 "metadata": {
  "language_info": {
   "name": "python"
  }
 },
 "nbformat": 4,
 "nbformat_minor": 2
}
